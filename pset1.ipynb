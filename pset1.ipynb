{
 "metadata": {
  "name": ""
 },
 "nbformat": 3,
 "nbformat_minor": 0,
 "worksheets": [
  {
   "cells": [
    {
     "cell_type": "markdown",
     "metadata": {},
     "source": [
      "# Data, Data, Data \n",
      "\n",
      "ARC welcomes you to the 2010s. Less that ten years ago, if you were running a business, starting a company, making a decision, the biggest badest factor was always location. Not so anymore. Businesses, Governments and People are now driven more and more, by DATA. And if you have the data you have the power. Once again, check out this article  [this article](#) to better understand where we are coming from, and hope you enjoy. \n",
      "\n",
      "---\n",
      "\n",
      "# The Data-tific Method \n",
      "\n",
      "So we know that we want it. We know that we need it. But how do we get it? Well there are three parts of the Data-tific Method: Finding Data, Getting Data, and Cleaning Data. Let's get started. \n",
      "\n",
      "## Finding Data\n",
      "\n",
      "\n",
      "This is often the hardest part about the entire process. We might begin with the idea to correlate how tall CEOs are to a company's earnings per share (inspired by [this](http://usatoday30.usatoday.com/money/companies/management/2008-03-13-bald-ceos_N.htm) for example). But understandably finding data on the heights of various CEO's is quite a tall order. So thus brings us the problem. \n",
      "\n",
      "For now we will use readily available data, but later on, we will start to branch out, and this part of the task will become your job. \n",
      "\n",
      "\n",
      "## Getting Data\n",
      "\n",
      "We will not spend too much time here, but do note: even if data exsists out there, does not mean that we can get our hands on it. Sometimes the data comes at a price (beleive me when I tell you most data comes with a price). Sometimes its just private, and regardless of how much you are willing to pay you just can't get it. And sometimes it is just too big. We can no longer fit the entire internet onto our laptops (though some of us can, eg [Watson](http://ieeexplore.ieee.org/xpl/tocresult.jsp?reload=true&isnumber=6177717) ). So sometimes its just too big. \n",
      "\n",
      "I doubt that we will deal with these issues to begin with, but do be aware. \n",
      "\n",
      "\n",
      "## Cleaning Data \n",
      "\n",
      "Data comes in all shapes and sizes. It could be anything from: \n",
      "\n",
      "* Stock Prices \n",
      "* Tweets \n",
      "* Earnings Reports \n",
      "* Chats on CNBC\n",
      "\n",
      "And as one can imagine, even if I had all the audio files from CNBC for the past 20 years it would still be quite a task to make something out of it. Thus Cleaning Data becomes a big part of the issue. \n",
      "\n",
      "Again, for now we will mostly handle that part of the job. We will start you off with clean, easy to get data, then start challenging you more as time goes on. \n",
      "\n",
      "\n",
      "\n",
      "<hline>\n",
      "\n",
      "# Your Job\n",
      "\n",
      "So just what are you going to do? We'll get your hands wet with data, starting off nice and easy, so get prepared, download this file, and dive in."
     ]
    },
    {
     "cell_type": "markdown",
     "metadata": {},
     "source": [
      "To start with run the code below, it will import some useful libraries and provide some useful functions later on. \n"
     ]
    },
    {
     "cell_type": "code",
     "collapsed": false,
     "input": [
      "%matplotlib inline\n",
      "\n",
      "import json\n",
      "\n",
      "import requests\n",
      "import pandas as pd\n",
      "import numpy as np\n",
      "import matplotlib.pyplot as plt\n",
      "from pprint import pprint\n",
      "\n",
      "pd.set_option('display.width', 500)\n",
      "pd.set_option('display.max_columns', 30)\n",
      "\n",
      "# set some nicer defaults for matplotlib\n",
      "from matplotlib import rcParams\n",
      "\n",
      "#these colors come from colorbrewer2.org. Each is an RGB triplet\n",
      "dark2_colors = [(0.10588235294117647, 0.6196078431372549, 0.4666666666666667),\n",
      "                (0.8509803921568627, 0.37254901960784315, 0.00784313725490196),\n",
      "                (0.4588235294117647, 0.4392156862745098, 0.7019607843137254),\n",
      "                (0.9058823529411765, 0.1607843137254902, 0.5411764705882353),\n",
      "                (0.4, 0.6509803921568628, 0.11764705882352941),\n",
      "                (0.9019607843137255, 0.6705882352941176, 0.00784313725490196),\n",
      "                (0.6509803921568628, 0.4627450980392157, 0.11372549019607843),\n",
      "                (0.4, 0.4, 0.4)]\n",
      "\n",
      "rcParams['figure.figsize'] = (10, 6)\n",
      "rcParams['figure.dpi'] = 150\n",
      "rcParams['axes.color_cycle'] = dark2_colors\n",
      "rcParams['lines.linewidth'] = 2\n",
      "rcParams['axes.grid'] = False\n",
      "rcParams['axes.facecolor'] = 'white'\n",
      "rcParams['font.size'] = 14\n",
      "rcParams['patch.edgecolor'] = 'none'\n",
      "\n",
      "\n",
      "def remove_border(axes=None, top=False, right=False, left=True, bottom=True):\n",
      "    \"\"\"\n",
      "    Minimize chartjunk by stripping out unnecessary plot borders and axis ticks\n",
      "    \n",
      "    The top/right/left/bottom keywords toggle whether the corresponding plot border is drawn\n",
      "    \"\"\"\n",
      "    ax = axes or plt.gca()\n",
      "    ax.spines['top'].set_visible(top)\n",
      "    ax.spines['right'].set_visible(right)\n",
      "    ax.spines['left'].set_visible(left)\n",
      "    ax.spines['bottom'].set_visible(bottom)\n",
      "    \n",
      "    #turn off all ticks\n",
      "    ax.yaxis.set_ticks_position('none')\n",
      "    ax.xaxis.set_ticks_position('none')\n",
      "    \n",
      "    #now re-enable visibles\n",
      "    if top:\n",
      "        ax.xaxis.tick_top()\n",
      "    if bottom:\n",
      "        ax.xaxis.tick_bottom()\n",
      "    if left:\n",
      "        ax.yaxis.tick_left()\n",
      "    if right:\n",
      "        ax.yaxis.tick_right()"
     ],
     "language": "python",
     "metadata": {},
     "outputs": [],
     "prompt_number": 5
    },
    {
     "cell_type": "markdown",
     "metadata": {},
     "source": [
      "## New library\n",
      "\n",
      "We are going to use two new libraries to start up. It is called ystockquote, and patterns. Generally speaking all you need to do to install this is go to your terminal and type: \n",
      "```\n",
      "$ pip install ystockquote patterns\n",
      "```\n",
      "\n",
      "\n",
      "But for full documentation go to [ystockquote](https://pypi.python.org/pypi/ystockquote) and [patterns](https://pypi.python.org/pypi/Pattern)\n",
      "\n",
      "Once you are done, run the code below, it should not generate an error "
     ]
    },
    {
     "cell_type": "code",
     "collapsed": false,
     "input": [
      "#get some stock quotes \n",
      "import ystockquote as ysq\n",
      "print \"ystockquote version:      %6.6s (need at least 0.2.4)\" % ysq.__version__\n",
      "\n",
      "#get some web crawling\n",
      "import patterns \n",
      "print \"you got patterns!\"\n"
     ],
     "language": "python",
     "metadata": {},
     "outputs": [],
     "prompt_number": 15
    },
    {
     "cell_type": "markdown",
     "metadata": {},
     "source": [
      "If there is any sort of error here please return to [ystockquote](https://pypi.python.org/pypi/ystockquote) and resolve the installation"
     ]
    },
    {
     "cell_type": "markdown",
     "metadata": {},
     "source": [
      "## Get Some Data"
     ]
    },
    {
     "cell_type": "markdown",
     "metadata": {},
     "source": [
      "Now to the fun part. Execute the code below (preferably during market hours), and pull your first stock data. "
     ]
    },
    {
     "cell_type": "code",
     "collapsed": false,
     "input": [
      "# pull some current google data \n",
      "ysq.get_price('GOOG')"
     ],
     "language": "python",
     "metadata": {},
     "outputs": [],
     "prompt_number": 39
    },
    {
     "cell_type": "markdown",
     "metadata": {},
     "source": [
      "Nice! Way to go. Let's keep moving forward. "
     ]
    },
    {
     "cell_type": "markdown",
     "metadata": {},
     "source": [
      "## Get More Data \n",
      "\n",
      "Now that you have your feet wet, let's push forward. Below is some code for retrieving historical prices for some specific dates. Notice that ystockquote is smart, and if certain days are weekends, it will not report them. "
     ]
    },
    {
     "cell_type": "code",
     "collapsed": false,
     "input": [
      "pprint(ysq.get_historical_prices('GOOG', '2013-01-03', '2013-01-05'))"
     ],
     "language": "python",
     "metadata": {},
     "outputs": [],
     "prompt_number": 40
    },
    {
     "cell_type": "markdown",
     "metadata": {},
     "source": [
      "## Our own chart\n",
      "\n",
      "So now we want you to make your own stock chart, we will provide the exact specs below"
     ]
    },
    {
     "cell_type": "code",
     "collapsed": false,
     "input": [
      "\"\"\"\n",
      "Function\n",
      "--------\n",
      "stock_chart\n",
      "\n",
      "display a picture of a stock chart on a stock for some dates\n",
      "\n",
      "Parameters\n",
      "----------\n",
      "ticker : string\n",
      "    the exact ticker according to yahoo fin of a stock\n",
      "    \n",
      "start_date : string\n",
      "     a string according to the above format\n",
      "    \n",
      "duration : int\n",
      "     number of days that you want the data \n",
      "\n",
      "Returns\n",
      "-------\n",
      "NA\n",
      "\n",
      "Example\n",
      "-------\n",
      ">>> stock_chart('GOOG','2013-01-03',10)\n",
      "\n",
      "a pretty picture\n",
      "\n",
      "\"\"\"\n",
      "\n"
     ],
     "language": "python",
     "metadata": {},
     "outputs": [],
     "prompt_number": 9
    },
    {
     "cell_type": "markdown",
     "metadata": {},
     "source": [
      "Great, let's check if this works"
     ]
    },
    {
     "cell_type": "code",
     "collapsed": false,
     "input": [
      "stock_chart('AAPL','2013-01-01',100)"
     ],
     "language": "python",
     "metadata": {},
     "outputs": []
    },
    {
     "cell_type": "markdown",
     "metadata": {},
     "source": [
      "If so, then what you have is a beut. If you have not done so, add some labels and be proud, you have just implemented your own little yahoo. Congrats, you now know how to grab some data and use it. You can also check out algorithm 0. Good luck, and stick with ARC. "
     ]
    },
    {
     "cell_type": "code",
     "collapsed": false,
     "input": [],
     "language": "python",
     "metadata": {},
     "outputs": []
    }
   ],
   "metadata": {}
  }
 ]
}
