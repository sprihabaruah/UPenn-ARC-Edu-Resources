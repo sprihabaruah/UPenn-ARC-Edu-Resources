{
 "metadata": {
  "name": ""
 },
 "nbformat": 3,
 "nbformat_minor": 0,
 "worksheets": [
  {
   "cells": [
    {
     "cell_type": "markdown",
     "metadata": {},
     "source": [
      "# An Algorithm\n",
      "\n",
      "Welcome to your first algorithm at ARC. One of the purposes of this club is to demystify finance and to show the that a majority of the time, what is going on is not so complicated. This first algorithm will do that. We recommend that you go through [pset0]() and [pset1]() before you start off here, so if you have not yet done so, please go back and work through them. If you have, then let's jump in. \n",
      "\n",
      "---\n",
      "\n",
      "# A Simple Stock Picker\n",
      "\n",
      "Here we are going to walk you through the steps of making a very very simple stock picker for stocks on the S&P 500. You will need the libraries downloaded in [pset1](), so please do complete the work there first. But the idea behind our picker is simple: \n",
      "\n",
      "## Culling the Meek\n",
      "\n",
      "\n",
      "We are going to go through some fundamental data about companies, 500 companies to be exact and hopefully choose the best of the best based on that data. And the process we will use is culling. \n",
      "\n",
      "We will look through each stock and each category and eliminate the worst stock in each category again and again till we arrive at some number of stocks that we are looking to buy.\n",
      "\n",
      "So if you have not done so already, download the alg, and begin"
     ]
    },
    {
     "cell_type": "markdown",
     "metadata": {},
     "source": [
      "To start with run the code below, it will import some useful libraries and provide some useful functions later on. If the code throws an error, you have not downloaded all of the correct libraries and will need to go back to [pset1]() and check.\n"
     ]
    },
    {
     "cell_type": "code",
     "collapsed": false,
     "input": [
      "%matplotlib inline\n",
      "\n",
      "import requests\n",
      "import pandas as pd\n",
      "import numpy as np\n",
      "from pprint import pprint\n",
      "import ystockquote as ysq\n"
     ],
     "language": "python",
     "metadata": {},
     "outputs": [],
     "prompt_number": 4
    },
    {
     "cell_type": "markdown",
     "metadata": {},
     "source": [
      "So in the algorithm sections, we are going to cut most of the pedantics and let you get right down to it, and present you the problem"
     ]
    },
    {
     "cell_type": "markdown",
     "metadata": {},
     "source": [
      "## Give you some data\n",
      "\n",
      "Below we start you off by getting you all the tickers of the S&P 500 (check the code out its pretty cool). You will use these tickers as your starting batch of companies. "
     ]
    },
    {
     "cell_type": "code",
     "collapsed": false,
     "input": [
      "from pattern.web import Element\n",
      "\n",
      "spy = requests.get('http://en.wikipedia.org/wiki/List_of_S&P_500_companies').text\n",
      "\n",
      "tickers = []\n",
      "dom = Element(spy)\n",
      "for a in dom('tr td:first-child a'):\n",
      "    ticker = a.content\n",
      "    if len(ticker) < 5:\n",
      "        tickers.append(ticker)"
     ],
     "language": "python",
     "metadata": {},
     "outputs": [],
     "prompt_number": 5
    },
    {
     "cell_type": "markdown",
     "metadata": {},
     "source": [
      "## Show you the ropes\n",
      "\n",
      "If you remember from pset1, we used ystockquote, to pull some data from companies, but they have much more. Check this out: "
     ]
    },
    {
     "cell_type": "code",
     "collapsed": false,
     "input": [
      "print tickers[0]\n",
      "ysq.get_all(tickers[0])"
     ],
     "language": "python",
     "metadata": {},
     "outputs": [
      {
       "output_type": "stream",
       "stream": "stdout",
       "text": [
        "MMM\n"
       ]
      },
      {
       "metadata": {},
       "output_type": "pyout",
       "prompt_number": 8,
       "text": [
        "{'avg_daily_volume': '2353540',\n",
        " 'book_value': '26.155',\n",
        " 'change': '+0.0698',\n",
        " 'dividend_per_share': '2.495',\n",
        " 'dividend_yield': '2.03',\n",
        " 'earnings_per_share': '6.389',\n",
        " 'ebitda': '7.794B',\n",
        " 'fifty_day_moving_avg': '118.524',\n",
        " 'fifty_two_week_high': '122.87',\n",
        " 'fifty_two_week_low': '86.74',\n",
        " 'market_cap': '83.855B',\n",
        " 'price': '122.6898',\n",
        " 'price_book_ratio': '4.69',\n",
        " 'price_earnings_growth_ratio': '1.68',\n",
        " 'price_earnings_ratio': '19.19',\n",
        " 'price_sales_ratio': '2.77',\n",
        " 'short_ratio': '4.30',\n",
        " 'stock_exchange': '\"NYSE\"',\n",
        " 'two_hundred_day_moving_avg': '113.102',\n",
        " 'volume': '1020983'}"
       ]
      }
     ],
     "prompt_number": 8
    },
    {
     "cell_type": "markdown",
     "metadata": {},
     "source": [
      "## Simple Stock Picker\n",
      "\n",
      "Wow, now that's what I call data. What we will want to use here is the:\n",
      "\n",
      "* 'price_book_ratio': '4.69'\n",
      "* 'price_earnings_growth_ratio': '1.68'\n",
      "* 'price_earnings_ratio': '19.19'\n",
      "* 'price_sales_ratio': '2.77'\n",
      "\n",
      "All of these tell use how much bang for our buck we are getting. How much asset we are getting for the price, how much growth for price, earning for price, and sales for price. So generally, we want these to be as small as possible (do note I said generally). \n",
      "\n",
      "So that is what we will do. Get this data for all of the companies, and then each step, remove four companies from our final list, the companies with the lowest ratio in each respective category, till we are left with only a few"
     ]
    },
    {
     "cell_type": "markdown",
     "metadata": {},
     "source": [
      "## Our own chart\n",
      "\n",
      "So now we want you to make your own stock chart, we will provide the exact specs below"
     ]
    },
    {
     "cell_type": "code",
     "collapsed": false,
     "input": [
      "\"\"\"\n",
      "Function\n",
      "--------\n",
      "simple_stock_picker\n",
      "\n",
      "picks stocks based on culling\n",
      "\n",
      "Parameters\n",
      "----------\n",
      "tickers : list of strings\n",
      "    the exact tickers according to yahoo fin of a stock\n",
      "    \n",
      "portfolio_size : int\n",
      "     number of stocks you want to be left with \n",
      "\n",
      "Returns\n",
      "-------\n",
      "portfolio : list of strings \n",
      "    a list of tickers of size less than protfolio_size\n",
      "\n",
      "Example\n",
      "-------\n",
      ">>> simple_stock_picker(['GOOG'],1)\n",
      "\n",
      "['GOOG']\n",
      "\n",
      "\"\"\"\n",
      "\n"
     ],
     "language": "python",
     "metadata": {},
     "outputs": [],
     "prompt_number": 9
    },
    {
     "cell_type": "markdown",
     "metadata": {},
     "source": [
      "Great, let's check if this works"
     ]
    },
    {
     "cell_type": "code",
     "collapsed": false,
     "input": [
      "simple_stock_picker(tickers,20)"
     ],
     "language": "python",
     "metadata": {},
     "outputs": []
    },
    {
     "cell_type": "markdown",
     "metadata": {},
     "source": [
      "If this works, head right over to your nearest brokerage and buy! Congrats, you have made your first algorithm. Show you mom and dad! Addmittedly this is a simple one, but congrats. You are on your way there. Do however think of ways the you could improve what we have made here, and expound on it. Regardless good work, and see you at ARC"
     ]
    },
    {
     "cell_type": "code",
     "collapsed": false,
     "input": [
      "\n",
      "        "
     ],
     "language": "python",
     "metadata": {},
     "outputs": [],
     "prompt_number": 8
    }
   ],
   "metadata": {}
  }
 ]
}