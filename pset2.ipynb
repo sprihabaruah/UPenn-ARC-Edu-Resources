{
 "metadata": {
  "name": ""
 },
 "nbformat": 3,
 "nbformat_minor": 0,
 "worksheets": [
  {
   "cells": [
    {
     "cell_type": "markdown",
     "metadata": {},
     "source": [
      "# Let's Clean a Bit(Coin)\n",
      "\n",
      "AHAHAH. After you are done enjoying the beyond enjoyable title, let's get going. \n",
      "\n",
      "In the pset we are going to be teaching a bit about bitcoin (AHAHA) and parsing data from the web (something that we have been doing for you all previously). Once again, thanks for doing ARC. \n",
      "\n",
      "---\n",
      "\n",
      "# A bit on BitCoins \n",
      "\n",
      "What are bitcoins. Bitcoin is a distributed peer-to-peer digital currency that functions without the intermediation of any central authority. Meaning a currency without a government. The concept was introduced in a 2008 paper by a pseudonymous developer known only as \"Satoshi Nakamoto.\" Meaning we have absolutely no idea who made it. Hmmm so what do we know about Bitcoins? \n",
      "\n",
      "## How it works? \n",
      "\n",
      "There are two significant facts about Bitcoins. \n",
      "\n",
      "* It is expensive to create new currency, and in fact, the total amount of currency is bounded by design of the currency system.\n",
      "* It is not necessary to trust an individual user before accepting coins from that user. Instead, the whole community of users is continuously running a process that guarantees there is no double-spending, and more generally that transactions are consistent with a chain of ownership of currency.\n",
      "\n",
      "Interesting but how does it work? People own Bitcoins till they are transfered. A transaction involves the transfer of a Bitcoin from some user A to some user B. The completion of a transaction in Bitcoin relies on public-key cryptography. For this purpose, each user has a public key and a private (i.e., secret) key. Each coin carries with it data about the entire history of its previous owners, and thus the history of transfers of the coin, starting from the user who created the coin all the way to the current owner. So let's go into more detail. Assume we ahve User 1 that wants to transfer coin $c$ to User 2 \n",
      "\n",
      "1. User 1 takes the last transaction involving coin c as well as user 2\u2019s public key, and computes a hash value based on these two inputs.\n",
      "2. Next, user 1 uses its own private key to sign the newly created hash. This collection of public key of user 2, the new hash, and user 1\u2019s signature becomes the new transaction.\n",
      "3. User 2 can use the public key of user 1 to verify that user 1 was indeed the last owner of coin c, by checking that user 1 has generated a correct signature of the hash with respect to the public key contained in the previous transaction that provided an input to the hash.\n",
      "4. A transaction ends with a public announcement of the transaction. In particular, the transaction is broadcast to the whole network of users, and users who receive this message forward it to their neighbors and so on.\n",
      "\n",
      "The goal of this sophisticated process is for all users to eventually agree on a single history of transactions, such that the payee of a transaction can be sure that the coin he has just received has not been spent twice by one of the previous owners. This is accomplished via a distributed time-stamping system, the key innovation in Bitcoin.\n",
      "\n",
      "In the Bitcoin system, the whole community of users work to- gether to generate time-stamps for transactions, collectively agreeing on one unique chrono- logical order of transactions. In fact, the exact time of a transaction is less important, while the order of transactions is what really matters. Thus users can ensure that any transaction broadcast to the network of users is chained in the history and is therefore recorded. That is how the users can trust each other. \n",
      "\n",
      "## Exchanges\n",
      "\n",
      "\n",
      "Through various exchanges, bitcoins are bought and sold at a variable price against the value of other currency.\n",
      "\n",
      "In general, Bitcoin exchanges fail to meet the standards for most other commodity exchanges. Indeed, one of the largest exchanges, Mt. Gox, was originally a site for trading Magic: The Gathering cards online.\n",
      "\n",
      "Thus we can get some interesting phenomena occuring at these exchanges, including arbitrage, which we will look at later. \n",
      "\n",
      "# Order Book \n",
      "\n",
      "An order book is the combined set of bid and ask orders for a particular market. A bid is an offer to purchase an asset at a particular price, an ask is an offer to sell at a particular price. Generally speaking bids are below asks, and the difference between the two is known as the bid-ask spread. When bids are above asks, because of huge irrationality or technological error in the matching engine, this is known as a crossed order book. The INSIDE MARKET is known as the best bid and the best ask. The MIDPRICE is the average of the inside market. The exchange recieves the bids and asks and uses a matching procedure called a matching engine to decide which trades can be placed. The TOP OF THE BOOK is the lowest bid and the highest ask. The DEPTH OF BOOK is the number of price levels available at a certain time in the order book. \n",
      "\n",
      "# Our assignment\n",
      "\n",
      "This time ARC's assignment will bet getting this bitcoin data, and then visualizing it. You will \n",
      "\n",
      "* Get a basic feel for examining elements of web pages\n",
      "* Learn how to parse data obtained from the web\n",
      "* Learn how to clean that data \n",
      "* And visualize that data in a usable way\n",
      "\n",
      "And the next time that somebody asks you what a Bitcoin is, you will know.\n",
      "\n",
      "---\n",
      "\n",
      "First since many of you may have never seen a bitcoin exchange before, check one out [BTC-e](https://btc-e.com/). This will be the site that we will be using throughout the pset. Check out the price and the fluctuations over time, and get ready. \n",
      "\n",
      "Below we have included some code for visualization and imports, execute it and get ready to go. "
     ]
    },
    {
     "cell_type": "code",
     "collapsed": false,
     "input": [
      "%matplotlib inline\n",
      "\n",
      "import json\n",
      "\n",
      "import requests\n",
      "import pandas as pd\n",
      "import numpy as np\n",
      "import matplotlib.pyplot as plt\n",
      "\n",
      "pd.set_option('display.width', 500)\n",
      "pd.set_option('display.max_columns', 30)\n",
      "\n",
      "# set some nicer defaults for matplotlib\n",
      "from matplotlib import rcParams\n",
      "\n",
      "#these colors come from colorbrewer2.org. Each is an RGB triplet\n",
      "dark2_colors = [(0.10588235294117647, 0.6196078431372549, 0.4666666666666667),\n",
      "                (0.8509803921568627, 0.37254901960784315, 0.00784313725490196),\n",
      "                (0.4588235294117647, 0.4392156862745098, 0.7019607843137254),\n",
      "                (0.9058823529411765, 0.1607843137254902, 0.5411764705882353),\n",
      "                (0.4, 0.6509803921568628, 0.11764705882352941),\n",
      "                (0.9019607843137255, 0.6705882352941176, 0.00784313725490196),\n",
      "                (0.6509803921568628, 0.4627450980392157, 0.11372549019607843),\n",
      "                (0.4, 0.4, 0.4)]\n",
      "\n",
      "rcParams['figure.figsize'] = (10, 6)\n",
      "rcParams['figure.dpi'] = 150\n",
      "rcParams['axes.color_cycle'] = dark2_colors\n",
      "rcParams['lines.linewidth'] = 2\n",
      "rcParams['axes.grid'] = False\n",
      "rcParams['axes.facecolor'] = 'white'\n",
      "rcParams['font.size'] = 14\n",
      "rcParams['patch.edgecolor'] = 'none'\n",
      "\n",
      "\n",
      "def remove_border(axes=None, top=False, right=False, left=True, bottom=True):\n",
      "    \"\"\"\n",
      "    Minimize chartjunk by stripping out unnecessary plot borders and axis ticks\n",
      "    \n",
      "    The top/right/left/bottom keywords toggle whether the corresponding plot border is drawn\n",
      "    \"\"\"\n",
      "    ax = axes or plt.gca()\n",
      "    ax.spines['top'].set_visible(top)\n",
      "    ax.spines['right'].set_visible(right)\n",
      "    ax.spines['left'].set_visible(left)\n",
      "    ax.spines['bottom'].set_visible(bottom)\n",
      "    \n",
      "    #turn off all ticks\n",
      "    ax.yaxis.set_ticks_position('none')\n",
      "    ax.xaxis.set_ticks_position('none')\n",
      "    \n",
      "    #now re-enable visibles\n",
      "    if top:\n",
      "        ax.xaxis.tick_top()\n",
      "    if bottom:\n",
      "        ax.xaxis.tick_bottom()\n",
      "    if left:\n",
      "        ax.yaxis.tick_left()\n",
      "    if right:\n",
      "        ax.yaxis.tick_right()"
     ],
     "language": "python",
     "metadata": {},
     "outputs": [],
     "prompt_number": 2
    },
    {
     "cell_type": "markdown",
     "metadata": {},
     "source": [
      "## Understanding the data\n",
      "\n",
      "Now let's take a look at the data that we want to visualize. Check out: [Orders](https://btc-e.com/api/2/btc_usd/depth). What data structure is it? How is it formated? "
     ]
    },
    {
     "cell_type": "raw",
     "metadata": {},
     "source": [
      "*your answer*"
     ]
    },
    {
     "cell_type": "markdown",
     "metadata": {},
     "source": [
      "So the first thing that we will need to do is extract the data. The original data is of the form below:\n",
      "\n",
      "```\n",
      "{\"asks\":[[price,volume]...], \"bids\":[[price,volume]...]}\n",
      "```\n",
      "\n",
      "We want the data to be in a dataframe. We want there to be three columns in the frame: \n",
      "\n",
      "    bid/ask: -1/1\n",
      "    price: float\n",
      "    volume: float\n",
      "    \n",
      "where the bid/ask column will tell us if it is a bid or an ask."
     ]
    },
    {
     "cell_type": "code",
     "collapsed": false,
     "input": [
      "\n",
      "#grab some data from the perscribed url\n",
      "btc_url = \"https://btc-e.com/api/2/btc_usd/depth\"\n",
      "\n",
      "def get_depth_info(url)\n",
      "    depth_info = requests.get(url).json()\n",
      "\n",
      "    #your code here\n",
      "    \n",
      "    return depth_info\n",
      "\n",
      "depth_info = get_depth_info(btc_url)\n",
      "\n",
      "depth_info.head()"
     ],
     "language": "python",
     "metadata": {},
     "outputs": [],
     "prompt_number": 8
    },
    {
     "cell_type": "markdown",
     "metadata": {},
     "source": [
      "Okay, now we have the data in a very useful form. So now let's see what we want to produce. We want, given the dataframe to visualize the below results: "
     ]
    },
    {
     "cell_type": "markdown",
     "metadata": {},
     "source": [
      "<img src=\"http://s23.postimg.org/kjb7l01vf/Screen_Shot_2013_11_02_at_4_10_19_PM.png\" width=\"900\"/>\n",
      "\n"
     ]
    },
    {
     "cell_type": "markdown",
     "metadata": {},
     "source": [
      "## Visualization\n",
      "\n",
      "This will be the hardest part of the assingment but justly so. We want to reconstruct the above visualization, using matplotlib. You have some creative licence but this is not easy, enjoy. "
     ]
    },
    {
     "cell_type": "code",
     "collapsed": false,
     "input": [
      "\"\"\"\n",
      "Function\n",
      "--------\n",
      "visualize_order_book\n",
      "\n",
      "visuzalize a given order book \n",
      "\n",
      "Parameters\n",
      "----------\n",
      "depth_info: dataframe\n",
      "    columns are:\n",
      "        ask/bid\n",
      "        volume\n",
      "        price\n",
      "\n",
      "Example\n",
      "-------\n",
      ">>> visualize_order_book(depth_info)\n",
      "pretty picture \n",
      "\"\"\"\n",
      "\n"
     ],
     "language": "python",
     "metadata": {},
     "outputs": [],
     "prompt_number": 9
    },
    {
     "cell_type": "markdown",
     "metadata": {},
     "source": [
      "That is great, hopefully your formula generated the same result of that which is above. Now lets finish up by visualizing the decay of our option above, and have our $t \\rightarrow T$ incrementally, and then graph it. "
     ]
    },
    {
     "cell_type": "code",
     "collapsed": false,
     "input": [
      "visualize_order_book(depth_info)"
     ],
     "language": "python",
     "metadata": {},
     "outputs": [],
     "prompt_number": 12
    },
    {
     "cell_type": "markdown",
     "metadata": {},
     "source": [
      "## Recap\n",
      "\n",
      "So you have seen how we pull data from an online source, feed it into a usable format and then visualize. This can be very useful for analysis, and here can be useful excersize in processing data. Next time we will plunge farther into data scraping. "
     ]
    },
    {
     "cell_type": "code",
     "collapsed": false,
     "input": [],
     "language": "python",
     "metadata": {},
     "outputs": []
    }
   ],
   "metadata": {}
  }
 ]
}