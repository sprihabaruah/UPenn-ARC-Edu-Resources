{
 "metadata": {
  "name": ""
 },
 "nbformat": 3,
 "nbformat_minor": 0,
 "worksheets": [
  {
   "cells": [
    {
     "cell_type": "markdown",
     "metadata": {},
     "source": [
      "# Alg 27: You've got Options "
     ]
    },
    {
     "cell_type": "markdown",
     "metadata": {},
     "source": [
      "In this assignment, you'll be scraping, cleaning and optionizing. This assignment will cover:\n",
      "\n",
      " * Scraping Data from the web\n",
      " * Cleaning that data \n",
      " * Dealing with a mess, for us, date-time\n",
      " * And cool visualizations\n",
      "\n",
      "Useful libraries for this assignment\n",
      "\n",
      "* [numpy](http://docs.scipy.org/doc/numpy-dev/user/index.html), for arrays\n",
      "* [patterns](https://pypi.python.org/pypi/Pattern) for parsing data from the web.\n",
      "* [pandas](http://pandas.pydata.org/), for data frames\n",
      "* [matplotlib](http://matplotlib.org/), for plotting\n",
      "* [requests](http://docs.python-requests.org/en/latest/), for downloading web content\n",
      "\n",
      "The code below will import some useful functions for you. "
     ]
    },
    {
     "cell_type": "code",
     "collapsed": false,
     "input": [
      "%matplotlib inline\n",
      "\n",
      "import math\n",
      "import patterns\n",
      "import requests\n",
      "import pandas as pd\n",
      "import numpy as np\n",
      "import matplotlib.pyplot as plt\n",
      "\n",
      "pd.set_option('display.width', 500)\n",
      "pd.set_option('display.max_columns', 30)\n",
      "\n",
      "# set some nicer defaults for matplotlib\n",
      "from matplotlib import rcParams\n",
      "\n",
      "#these colors come from colorbrewer2.org. Each is an RGB triplet\n",
      "dark2_colors = [(0.10588235294117647, 0.6196078431372549, 0.4666666666666667),\n",
      "                (0.8509803921568627, 0.37254901960784315, 0.00784313725490196),\n",
      "                (0.4588235294117647, 0.4392156862745098, 0.7019607843137254),\n",
      "                (0.9058823529411765, 0.1607843137254902, 0.5411764705882353),\n",
      "                (0.4, 0.6509803921568628, 0.11764705882352941),\n",
      "                (0.9019607843137255, 0.6705882352941176, 0.00784313725490196),\n",
      "                (0.6509803921568628, 0.4627450980392157, 0.11372549019607843),\n",
      "                (0.4, 0.4, 0.4)]\n",
      "\n",
      "rcParams['figure.figsize'] = (10, 6)\n",
      "rcParams['figure.dpi'] = 150\n",
      "rcParams['axes.color_cycle'] = dark2_colors\n",
      "rcParams['lines.linewidth'] = 2\n",
      "rcParams['axes.grid'] = False\n",
      "rcParams['axes.facecolor'] = 'white'\n",
      "rcParams['font.size'] = 14\n",
      "rcParams['patch.edgecolor'] = 'none'\n",
      "\n",
      "\n",
      "def remove_border(axes=None, top=False, right=False, left=True, bottom=True):\n",
      "    \"\"\"\n",
      "    Minimize chartjunk by stripping out unnecessary plot borders and axis ticks\n",
      "    \n",
      "    The top/right/left/bottom keywords toggle whether the corresponding plot border is drawn\n",
      "    \"\"\"\n",
      "    ax = axes or plt.gca()\n",
      "    ax.spines['top'].set_visible(top)\n",
      "    ax.spines['right'].set_visible(right)\n",
      "    ax.spines['left'].set_visible(left)\n",
      "    ax.spines['bottom'].set_visible(bottom)\n",
      "    \n",
      "    #turn off all ticks\n",
      "    ax.yaxis.set_ticks_position('none')\n",
      "    ax.xaxis.set_ticks_position('none')\n",
      "    \n",
      "    #now re-enable visibles\n",
      "    if top:\n",
      "        ax.xaxis.tick_top()\n",
      "    if bottom:\n",
      "        ax.xaxis.tick_bottom()\n",
      "    if left:\n",
      "        ax.yaxis.tick_left()\n",
      "    if right:\n",
      "        ax.yaxis.tick_right()"
     ],
     "language": "python",
     "metadata": {},
     "outputs": [],
     "prompt_number": 1
    },
    {
     "cell_type": "markdown",
     "metadata": {},
     "source": [
      "## Optional Introduction (Get it, options...)\n",
      "\n",
      "We will give you a very short description of options here, for more information just contact [ARC](http://www.hcs.harvard.edu/harvard-arc/), that's what we are hear for. \n",
      "\n",
      "In finance, an option is a contract which gives the buyer (the owner) the right, but not the obligation, to buy or sell an underlying asset or instrument at a specified strike price on or before a specified date. The seller incurs a corresponding obligation to fulfill the transaction \u2013 that is to sell or buy \u2013 if the owner elects to \"exercise\" the option prior to expiration. The buyer pays a premium to the seller for this right. \n",
      "\n",
      "An option which conveys to the owner the right to buy something at a specific price is referred to as a call; an option which conveys the right of the owner to sell something at a specific price is referred to as a put. Both are commonly traded, but for clarity, the call option is more frequently discussed.\n",
      "\n",
      "So there are a few terms here which are important to define. A strike price is the price that one has the right to buy or sell at. The expiration date is the last date to use that right. Thus an option has a few inputs: the strike price, the expiration date, and the underlying asset (here we are principally concerned with the price. \n",
      "\n",
      "So let's say that we want to try to place the price of options and see if they are trading at fair value. If too low, we will buy and if too high, we will short. One way to do this is to use Binomial Pricing (we will have gone over this topic already).  \n",
      "\n",
      "Below we have included an implementation of this algorithm (yeah I know ARC is great!). This is the Jarrow Rudd implementation (do you remember what that means???) This basically means that we assume that the probability of going up and down is 1/2. So take a look"
     ]
    },
    {
     "cell_type": "code",
     "collapsed": false,
     "input": [
      "\n",
      "\n",
      "def jarrow_rudd(s,k,t,v,rf,cp,am=False,n=100):\n",
      "    \"\"\" Price an option using the Jarrow-Rudd binoial model\n",
      "    s: initial stock price\n",
      "    k: strike price\n",
      "    t: expiration time\n",
      "    v: volatility\n",
      "    rf: risk-free rate\n",
      "    cp: +1/-1 for call/put\n",
      "    am: True/False for American/European\n",
      "    n: binomial steps\n",
      "    \"\"\"\n",
      "    \n",
      "    #Basic calculations\n",
      "    h=t/n\n",
      "    u = math.exp((rf-0.5*math.pow(v,2))*h+v*math.sqrt(h))\n",
      "    d = math.exp((rf-0.5*math.pow(v,2))*h-v*math.sqrt(h))\n",
      "    drift = math.exp(rf*h)\n",
      "    q = (drift-d)/(u-d)\n",
      "    \n",
      "    # Process the terminal stock price\n",
      "    stkval = np.zeros((n+1,n+1))\n",
      "    optval = np.zeros((n+1,n+1))\n",
      "    stkval[0,0] = s\n",
      "    \n",
      "    for i in range(1,n+1):\n",
      "        stkval[i,0] = stkval[i-1,0]*u\n",
      "        for j in range(1,i+1):\n",
      "            stkval[i,j] = stkval[i-1,j-1]*d\n",
      "            \n",
      "    # Backward recursion for option price\n",
      "    \n",
      "    for j in range(n+1):\n",
      "        optval[n,j] = max(0,cp*(stkval[n,j]-k))\n",
      "    for i in range(n-1,-1,-1):\n",
      "        for j in range(i+1):\n",
      "            optval[i,j] = (q*optval[i+1,j]+(1-q)*optval[i+1,j+1])/drift\n",
      "            if am:\n",
      "                optval[i,j] = max(optval[i,j],cp*(stkval[i,j]-k))\n",
      "                \n",
      "    return optval[0,0]\n"
     ],
     "language": "python",
     "metadata": {},
     "outputs": [
      {
       "output_type": "stream",
       "stream": "stdout",
       "text": [
        "13.2969231342\n",
        "13.2969231342"
       ]
      },
      {
       "output_type": "stream",
       "stream": "stdout",
       "text": [
        "\n"
       ]
      }
     ],
     "prompt_number": 2
    },
    {
     "cell_type": "markdown",
     "metadata": {},
     "source": [
      "OK, we have given you a tool, so use it. Well how? First you need data. "
     ]
    },
    {
     "cell_type": "markdown",
     "metadata": {},
     "source": [
      "## Optional DATA\n",
      "\n",
      "Data on options is hard. Much harder than on the underlying asset. There is no source that I know of that will give you good historical data on options, that is nothing without a price. So being poor college students we can't use that. But we can scrape. \n",
      "\n",
      "Check out [BigCharts](http://bigcharts.marketwatch.com/quickchart/options.asp?symb=RUT). Here we have a site that gives you data on options chains. You have the strike price, the price of the underlying asset, the vol (in precent!). So you can get a lot. Now time for you to start coding. There is the data, go get it. \n",
      "\n",
      "### What we want\n",
      "\n",
      "So if you haven't already, check out [patterns](https://pypi.python.org/pypi/Pattern). This will give you the tools to start. We want a function, that given a symbol, `'RUT'` for example, will give us the vol (now in decimal), the price of the underlying, the strike, the days till expiration, and whether it is a put or a call (1 or -1). Or more formally: \n",
      "\n",
      "    s: initial stock price\n",
      "    k: strike price\n",
      "    t: expiration time\n",
      "    v: volatility\n",
      "    cp: +1/-1 for call/put\n",
      "    p: price of the option\n",
      "\n",
      "We will assume all american with a risk free rate of 0.0. (Yeah its that bad). But we will take you step by step. First let's get the page. \n",
      "\n",
      "### Surfing the Web \n",
      "\n",
      "Below we will want you to make a funciton that given a symbol will ruturn the full BigCharts page from the web. You will need to use requests in order to do so. "
     ]
    },
    {
     "cell_type": "code",
     "collapsed": false,
     "input": [
      "\"\"\"\n",
      "Function\n",
      "--------\n",
      "get_bigcharts\n",
      "\n",
      "returns the text from the bigcharts page\n",
      "\n",
      "Inputs\n",
      "-------\n",
      "ticker : string\n",
      "    a valid ticker on bigcharts \n",
      "\n",
      "Outputs\n",
      "-------\n",
      "\n",
      "text: string \n",
      "    the full text from the page \n",
      "\n",
      "\"\"\"    \n",
      "#your code here\n"
     ],
     "language": "python",
     "metadata": {},
     "outputs": [],
     "prompt_number": 18
    },
    {
     "cell_type": "code",
     "collapsed": false,
     "input": [
      "text = get_bigcharts('RUT')"
     ],
     "language": "python",
     "metadata": {},
     "outputs": [],
     "prompt_number": 19
    },
    {
     "cell_type": "markdown",
     "metadata": {},
     "source": [
      "Wow, a whole lot of text. Well supposedly there is some good stuff in this page, but how do we get to it.... "
     ]
    },
    {
     "cell_type": "markdown",
     "metadata": {},
     "source": [
      "### Pattern Regonician\n",
      "\n",
      "First thing we should do, is get some universal data.  We will work to get the underlying asset price first. Use patterns to turn the document into a web element, and use that to find the data we want. First look at the web page. And in google chrome, inspect the web element. There will be a price of the asset in the upper righthand side. Is there any attribute that distinguishes it? Maybe its class?\n",
      "\n",
      "Figure that out, use patterns to grab it, convert it to a float and ship it back."
     ]
    },
    {
     "cell_type": "code",
     "collapsed": false,
     "input": [
      "\"\"\"\n",
      "Function\n",
      "--------\n",
      "bigcharts_price\n",
      "\n",
      "return the price of the underlying asset, from the bigcharts webpage\n",
      "    \n",
      "Inputs\n",
      "----------\n",
      "text : string \n",
      "    a string representation of the bigcharts page \n",
      "    \n",
      "Outputs\n",
      "----------\n",
      "price: float \n",
      "    price of the underlying asset\n",
      "\"\"\"\n",
      "#your code here\n"
     ],
     "language": "python",
     "metadata": {},
     "outputs": [],
     "prompt_number": 20
    },
    {
     "cell_type": "code",
     "collapsed": false,
     "input": [
      "bigcharts_price(text)"
     ],
     "language": "python",
     "metadata": {},
     "outputs": []
    },
    {
     "cell_type": "markdown",
     "metadata": {},
     "source": [
      "Check to make sure that is right, and then continue."
     ]
    },
    {
     "cell_type": "markdown",
     "metadata": {},
     "source": [
      "### Give me more Time!\n",
      "\n",
      "Now we will find the hardest part of these inputs: Time. \n",
      "\n",
      "First for some trivia. The expiration data for an X option, where X is a month, is the third Saturday of the Month, (basically the Friday, since we are just going by the trading days). Unless!!, the month began on a Saturday, then it is the fourth Saturday. \n",
      "\n",
      "Thus we want you to write a function that calculates the number of trading days (just weekdays, we will assume out holidays) from today until the expiration date is reached. This will involve some funky time math, so enjoy. :)\n"
     ]
    },
    {
     "cell_type": "code",
     "collapsed": false,
     "input": [
      "\"\"\"\n",
      "Function\n",
      "--------\n",
      "till_expiration\n",
      "\n",
      "return the number of maket days till expiration given a month\n",
      "    \n",
      "Inputs\n",
      "----------\n",
      "month : string \n",
      "    a string representation of the month: eg. 'November' \n",
      "    \n",
      "Outputs\n",
      "----------\n",
      "time: float \n",
      "    the number of days till expiration\n",
      "\"\"\"\n",
      "#your code here\n"
     ],
     "language": "python",
     "metadata": {},
     "outputs": [],
     "prompt_number": 21
    },
    {
     "cell_type": "code",
     "collapsed": false,
     "input": [
      "till_expiration('June')"
     ],
     "language": "python",
     "metadata": {},
     "outputs": []
    },
    {
     "cell_type": "markdown",
     "metadata": {},
     "source": [
      "Okay, done with the hard stuff. Now onto the final stretch"
     ]
    },
    {
     "cell_type": "markdown",
     "metadata": {},
     "source": [
      "### All about Options \n",
      "\n",
      "Now we just want the options data. We want \n",
      "\n",
      "    k: strike price\n",
      "    v: volatility\n",
      "    cp: +1/-1 for call/put\n",
      "    p: price of the option\n",
      "    \n",
      "For each of the options listed. And we want them in a dataframe. So if you have not checked out [pandas](http://pandas.pydata.org/), go ahead and do so. We will do the same thing. We will convert our text into a web element, find the pattern that determine how we get the data, and fill it inot a dataframe. Don't worry we are almost done"
     ]
    },
    {
     "cell_type": "code",
     "collapsed": false,
     "input": [
      "\"\"\"\n",
      "Function\n",
      "--------\n",
      "option_data\n",
      "\n",
      "return the various options data given bigcharts text \n",
      "    \n",
      "Inputs\n",
      "----------\n",
      "text : string \n",
      "    a string representation of the bigcharts page\n",
      "    \n",
      "Outputs\n",
      "----------\n",
      "options: DataFrame \n",
      "    a dataframe with the columns: \n",
      "    \n",
      "    k: strike price\n",
      "    v: volatility\n",
      "    cp: +1/-1 for call/put\n",
      "    p: price of the option\n",
      "    \n",
      "\"\"\"\n",
      "#your code here\n"
     ],
     "language": "python",
     "metadata": {},
     "outputs": [
      {
       "output_type": "stream",
       "stream": "stdout",
       "text": [
        "\n"
       ]
      }
     ],
     "prompt_number": 14
    },
    {
     "cell_type": "code",
     "collapsed": false,
     "input": [
      "option_data(text).head()"
     ],
     "language": "python",
     "metadata": {},
     "outputs": []
    },
    {
     "cell_type": "markdown",
     "metadata": {},
     "source": [
      "##Putting it All Together\n",
      "\n",
      "Now we are golden. Make a funciton that given a ticker will return a dataframe with all of our cool stuff. Make sure the columns are exact and the data is clean, and we will check out if the options are valued appropriately "
     ]
    },
    {
     "cell_type": "code",
     "collapsed": false,
     "input": [
      "\"\"\"\n",
      "Function\n",
      "--------\n",
      "option_chain\n",
      "\n",
      "return a full options chain of given ticker in a dataframe\n",
      "    \n",
      "Inputs\n",
      "----------\n",
      "ticker : string \n",
      "    a string representation of a valid ticker\n",
      "    \n",
      "Outputs\n",
      "----------\n",
      "options: DataFrame \n",
      "    a dataframe with the columns: \n",
      "    \n",
      "    s: initial stock price\n",
      "    k: strike price\n",
      "    t: expiration time\n",
      "    v: volatility\n",
      "    cp: +1/-1 for call/put\n",
      "    p: price of the option\n",
      "    \n",
      "\"\"\"\n",
      "#your code here\n"
     ],
     "language": "python",
     "metadata": {},
     "outputs": [],
     "prompt_number": 22
    },
    {
     "cell_type": "code",
     "collapsed": false,
     "input": [
      "rut = option_chain('RUT')\n",
      "rut.head()"
     ],
     "language": "python",
     "metadata": {},
     "outputs": [],
     "prompt_number": 23
    },
    {
     "cell_type": "markdown",
     "metadata": {},
     "source": [
      "Congrats you have just made an algorithm for trading options. Run the code below:"
     ]
    },
    {
     "cell_type": "code",
     "collapsed": false,
     "input": [
      "def binomial_pricing(row):\n",
      "    s = row['s'] ; k = row['k'] ; t = row['t']; v = row['v']; cp = row['cp']; p = row['p']\n",
      "\n",
      "    return jarrow_rudd(s,k,t,v,0.0,cp,am=True,n=100)\n",
      "\n",
      "rut['actual_price'] = rut.apply(binomial_pricing,axis = 1)\n",
      "\n",
      "print rut\n"
     ],
     "language": "python",
     "metadata": {},
     "outputs": [],
     "prompt_number": 24
    },
    {
     "cell_type": "markdown",
     "metadata": {},
     "source": [
      "Very Cool. What you have is an algorithm that predicts what an option should be priced at. Now go buy the options that we think are cheap and sell the options that we think are expensive!!! But actually please don't. This is very basic and makes many assumptions (big one is that the volitility of the underlying asset will be the volitility of the option). But this is the beginings of something that people use every day to trade. Below list some assumptions we have made and how we could imporve them: "
     ]
    },
    {
     "cell_type": "markdown",
     "metadata": {},
     "source": [
      "*Your Answer Here*"
     ]
    },
    {
     "cell_type": "markdown",
     "metadata": {},
     "source": [
      "## Making Money and....\n",
      "\n",
      "As a final note, do convince yourself that you should be able to make money on this algorithm, after we add some extra widgets. Once again, thanks, and keep ARCing. "
     ]
    },
    {
     "cell_type": "markdown",
     "metadata": {},
     "source": [
      "---\n",
      "*css tweaks in this cell*\n",
      "<style>\n",
      "div.text_cell_render {\n",
      "    line-height: 150%;\n",
      "    font-size: 110%;\n",
      "    width: 800px;\n",
      "    margin-left:50px;\n",
      "    margin-right:auto;\n",
      "    }\n",
      "</style>"
     ]
    },
    {
     "cell_type": "code",
     "collapsed": false,
     "input": [],
     "language": "python",
     "metadata": {},
     "outputs": []
    }
   ],
   "metadata": {}
  }
 ]
}