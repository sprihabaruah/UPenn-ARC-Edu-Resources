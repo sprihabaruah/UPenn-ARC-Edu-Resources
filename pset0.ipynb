{
 "metadata": {
  "name": ""
 },
 "nbformat": 3,
 "nbformat_minor": 0,
 "worksheets": [
  {
   "cells": [
    {
     "cell_type": "markdown",
     "metadata": {},
     "source": [
      "# We're Computer Scientists? \n",
      "\n",
      "First, Welcome to ARC. The first comment that needs to be said is that yes, we are computer scientists. Whether you are doing research in a lab, in the field, or in Wall Street, being a scientist means being a computer scientist. Which means now more than ever, computer science is becoming wanted if not necessary. So while ARC is a club that focuses on finance (at least to begin with), what we are really doing is Computer Science. We encourage you to read [this article](#) to better understand where we are coming from, and hope you enjoy. \n",
      "\n",
      "---\n",
      "\n",
      "# Computer Science\n",
      "\n",
      "Welcome to ARC.  We will be using a variety of tools that will require some initial configuration. To ensure everything goes smoothly moving forward, we will setup the majority of those tools in this Pset. While some of this will likely be dull, doing it now will enable us to do more exciting work in the weeks that follow without getting bogged down in further software configuration. \n",
      "\n",
      "## Piazza\n",
      "\n",
      "\n",
      "**Piazza**\n",
      "\n",
      "Go to [Piazza](http://piazza.com/arc/other/cs101) and sign up for the ARC class. There is a code to enter, and it is \"\". That's right just hit enter. \n",
      "\n",
      "You will use Piazza as a forum for discussion, to find team members, and to ask questions. Piazza should be your primary form of communication with the leaders of the club. In the future we will provide a site and an address.\n",
      "\n",
      "\n",
      "## Programming expectations\n",
      "\n",
      "All the assignments and labs for ARC will use Python and, for the most part, the browser-based IPython notebook format you are currently viewing. Knowledge of Python is not a prerequisite for ARC or participation, **provided you are comfortable learning on your own as needed**. While we have strived to make the programming component of this course straightforward, we will not devote much time to teaching prorgramming or Python syntax. Basically, you should feel comfortable with:\n",
      "\n",
      "* How to look up Python syntax on Google and StackOverflow.\n",
      "* Basic programming concepts like functions, loops, arrays, dictionaries, strings, and if statements.\n",
      "* How to learn new libraries by reading documentation.\n",
      "* Asking questions on StackOverflow or Piazza.\n",
      "\n",
      "There are many online tutorials to introduce you to scientific python programming. [Here is one](https://github.com/jrjohansson/scientific-python-lectures) that is very nice and very relevant to ARC.\n",
      "\n",
      "For an introduction to python we recommend: [Learn Python](http://www.learnpython.org/). This is entirly browser based so enjoy!\n",
      "\n",
      "## Getting Python\n",
      "\n",
      "You will be using Python throughout constantly in ARC, including many popular 3rd party Python libraries for scientific computing. [Anaconda](http://continuum.io/downloads) is an easy-to-install bundle of Python and most of these libraries. We recommend that you use Anaconda for this course.\n",
      "\n",
      "Please visit [this page](https://github.com/knathanieltucker/arc/wiki/Basic-Python) and follow the instructions to set up Python\n",
      "\n",
      "<hline>\n",
      "\n",
      "## IPython Notebook\n",
      "\n",
      "The IPython notebook is an application to build interactive computational notebooks. You'll be using them to complete labs and homework. Once you've set up Python, please download this page (from the top right of the veiwer/webpage), and open it with IPython by typing\n",
      "\n",
      "```\n",
      "ipython notebook <name_of_downloaded_file>\n",
      "```\n",
      "\n",
      "For the rest of the assignment, use your local copy of this page, running on IPython. If you are note familiar with IPython, please click [here](http://ipython.org/ipython-doc/stable/interactive/tutorial.html) and go though this tutorial.\n",
      "\n",
      "Notebooks are composed of many \"cells\", which can contain text (like this one), or code (like the one below). Double click on the cell below, and evaluate it by clicking the \"play\" button above, for by hitting shift + enter"
     ]
    },
    {
     "cell_type": "code",
     "collapsed": false,
     "input": [
      "x = ['A', 'R', 'C']\n",
      "for item in x:\n",
      "    print \"\", item"
     ],
     "language": "python",
     "metadata": {},
     "outputs": [],
     "prompt_number": 2
    },
    {
     "cell_type": "markdown",
     "metadata": {},
     "source": [
      "## Python Libraries\n",
      "\n",
      "We will be using a several different libraries throughout this course. If you've successfully completed the [installation instructions](https://github.com/cs109/content/wiki/Installing-Python), all of the following statements should run."
     ]
    },
    {
     "cell_type": "code",
     "collapsed": false,
     "input": [
      "#IPython is what you are using now to run the notebook\n",
      "import IPython\n",
      "print \"IPython version:      %6.6s (need at least 1.0)\" % IPython.__version__\n",
      "\n",
      "# Numpy is a library for working with Arrays\n",
      "import numpy as np\n",
      "print \"Numpy version:        %6.6s (need at least 1.7.1)\" % np.__version__\n",
      "\n",
      "# SciPy implements many different numerical algorithms\n",
      "import scipy as sp\n",
      "print \"SciPy version:        %6.6s (need at least 0.12.0)\" % sp.__version__\n",
      "\n",
      "# Pandas makes working with data tables easier\n",
      "import pandas as pd\n",
      "print \"Pandas version:       %6.6s (need at least 0.11.0)\" % pd.__version__\n",
      "\n",
      "# Module for plotting\n",
      "import matplotlib\n",
      "print \"Mapltolib version:    %6.6s (need at least 1.2.1)\" % matplotlib.__version__\n",
      "\n",
      "# SciKit Learn implements several Machine Learning algorithms\n",
      "import sklearn\n",
      "print \"Scikit-Learn version: %6.6s (need at least 0.13.1)\" % sklearn.__version__\n",
      "\n",
      "# Requests is a library for getting data from the Web\n",
      "import requests\n",
      "print \"requests version:     %6.6s (need at least 1.2.3)\" % requests.__version__\n",
      "\n",
      "# Networkx is a library for working with networks\n",
      "import networkx as nx\n",
      "print \"NetworkX version:     %6.6s (need at least 1.7)\" % nx.__version__\n",
      "\n",
      "#BeautifulSoup is a library to parse HTML and XML documents\n",
      "import iso8601\n",
      "print iso8601.parse_date(\"2007-01-25T12:00:00Z\")\n",
      "\n"
     ],
     "language": "python",
     "metadata": {},
     "outputs": [],
     "prompt_number": 1
    },
    {
     "cell_type": "markdown",
     "metadata": {},
     "source": [
      "If any of these libraries are missing or out of date, you will need to [install them](https://github.com/knathanieltucker/arc/wiki/Basic-Python) and restart IPython"
     ]
    },
    {
     "cell_type": "markdown",
     "metadata": {},
     "source": [
      "## Matplotlib Science"
     ]
    },
    {
     "cell_type": "markdown",
     "metadata": {},
     "source": [
      "The notebook integrates nicely with Matplotlib, the primary plotting package for python. This should embed a figure of a sine wave:"
     ]
    },
    {
     "cell_type": "code",
     "collapsed": false,
     "input": [
      "#this line prepares IPython for working with matplotlib\n",
      "%matplotlib inline  \n",
      "\n",
      "# this actually imports matplotlib\n",
      "import matplotlib.pyplot as plt  \n",
      "\n",
      "x = np.linspace(0, 10, 30)  #array of 30 points from 0 to 10\n",
      "y = np.sin(x)\n",
      "z = y + np.random.normal(size=30) * .2\n",
      "plt.plot(x, y, 'ro-', label='A sine wave')\n",
      "plt.plot(x, z, 'b-', label='Noisy sine')\n",
      "plt.legend(loc = 'lower right')\n",
      "plt.xlabel(\"X axis\")\n",
      "plt.ylabel(\"Y axis\")           "
     ],
     "language": "python",
     "metadata": {},
     "outputs": [
      {
       "metadata": {},
       "output_type": "pyout",
       "prompt_number": 6,
       "text": [
        "<matplotlib.text.Text at 0x1074af890>"
       ]
      },
      {
       "metadata": {},
       "output_type": "display_data",
       "png": "[encoded data removed]",
       "text": [
        "<matplotlib.figure.Figure at 0x106a3df90>"
       ]
      }
     ],
     "prompt_number": 6
    },
    {
     "cell_type": "markdown",
     "metadata": {},
     "source": [
      "If that last cell complained about the `%matplotlib` line, you need to update IPython to v1.0, and restart the notebook. See the [installation page](https://github.com/knathanieltucker/arc/wiki/Basic-Python)"
     ]
    },
    {
     "cell_type": "markdown",
     "metadata": {},
     "source": [
      "## Numpy Science\n",
      "\n",
      "The Numpy array processing library is the basis of nearly all numerical computing in Python. Here's a 30 second crash course. For more details, consult Chapter 4 of Python for Data Analysis, or the [Numpy User's Guide](http://docs.scipy.org/doc/numpy-dev/user/index.html)"
     ]
    },
    {
     "cell_type": "code",
     "collapsed": false,
     "input": [
      "print \"Make a 3 row x 4 column array of random numbers\"\n",
      "x = np.random.random((3, 4))\n",
      "print x\n",
      "print\n",
      "\n",
      "print \"Add 1 to every element\"\n",
      "x = x + 1\n",
      "print x\n",
      "print\n",
      "\n",
      "print \"Get the element at row 1, column 2\"\n",
      "print x[1, 2]\n",
      "print\n",
      "\n",
      "# The colon syntax is called \"slicing\" the array. \n",
      "print \"Get the first row\"\n",
      "print x[0, :]\n",
      "print\n",
      "\n",
      "print \"Get every 2nd column of the first row\"\n",
      "print x[0, ::2]\n",
      "print"
     ],
     "language": "python",
     "metadata": {},
     "outputs": [],
     "prompt_number": 3
    },
    {
     "cell_type": "markdown",
     "metadata": {},
     "source": [
      "## Black-Scholes Formula\n",
      "\n",
      "To get us started, lets get our hands down and dirty and create a funciton to compute the infamous: Black-Scholes formula. For those of us without an eidetic memory the formula is as follows:\n",
      "\n",
      "$$C(S,t) = N(d_1)S - N(d_2)Ke^{-r(T-t)}$$\n",
      "\n",
      "Where $N()$ is the cumulative distribution function of the standard normal, and: \n",
      "\n",
      "\n",
      "$$d_1 = \\frac{\\ln(S/K) + (r + \\sigma^2/2)(T - t)}{\\sigma \\sqrt{T - t}}$$\n",
      "$$d_2 = \\frac{\\ln(S/K) + (r - \\sigma^2/2)(T - t)}{\\sigma \\sqrt{T - t}}$$\n",
      "$$d_2 = d_1 - \\sigma \\sqrt{T - t}$$\n",
      "\n",
      "\n",
      "We will skip the derivation for later in ARC, but let's write some code here. We want to write a function that takes: \n",
      "\n",
      "$S$, the spot price of the underlying asset\n",
      "\n",
      "$T$, the time step of maturity \n",
      "\n",
      "$t$, the current time step\n",
      "\n",
      "$K$, the strike price\n",
      "\n",
      "$r$, the risk free rate\n",
      "\n",
      "$\\sigma$, the volitility of the returns of the underlying asset\n",
      "\n",
      "<pre><code> scipy.stats.norm.cdf</code></pre>"
     ]
    },
    {
     "cell_type": "code",
     "collapsed": false,
     "input": [
      "\"\"\"\n",
      "Function\n",
      "--------\n",
      "black_scholes_formula_call\n",
      "\n",
      "get the price of a call given these params\n",
      "\n",
      "Parameters\n",
      "----------\n",
      "S : float\n",
      "    the spot price of the underlying asset\n",
      "    \n",
      "K : float\n",
      "     the strike price\n",
      "    \n",
      "T : float\n",
      "     the time step of maturity\n",
      "    \n",
      "t : float\n",
      "     the current time step\n",
      "    \n",
      "r : float\n",
      "    the risk free rate\n",
      "    \n",
      "sigma : float\n",
      "     the volitility of the returns of the underlying asset\n",
      "\n",
      "Returns\n",
      "-------\n",
      "sims : array\n",
      "    Random array of 0s, 1s, and 2s\n",
      "\n",
      "Example\n",
      "-------\n",
      ">>> print black_scholes_formula_call(460.0,470.0,.17,0.0,.02,.58)\n",
      "37.0\n",
      "\"\"\"\n",
      "\n"
     ],
     "language": "python",
     "metadata": {},
     "outputs": [],
     "prompt_number": 9
    },
    {
     "cell_type": "markdown",
     "metadata": {},
     "source": [
      "That is great, hopefully your formula generated the same result of that which is above. Now lets finish up by visualizing the decay of our option above, and have our $t \\rightarrow T$ incrementally, and then graph it. "
     ]
    },
    {
     "cell_type": "code",
     "collapsed": false,
     "input": [
      "\"\"\"\n",
      "Function\n",
      "--------\n",
      "option_plot\n",
      "\n",
      "plot the price of a call option over a sereis of points \n",
      "\n",
      "Parameters\n",
      "----------\n",
      "prices : list\n",
      "    a list of prices \n",
      "\n",
      "Returns\n",
      "-------\n",
      "prints graph\n",
      "\n",
      "Example\n",
      "-------\n",
      ">>> option_plot([1,2,3,4,5,6,7])\n",
      "\n",
      "\"\"\"\n",
      "import matplotlib.pyplot as plt\n",
      "\n",
      "def option_plot(prices):\n",
      "    plt.plot(prices)\n",
      "    plt.ylabel('Price of the Option')\n",
      "    plt.xlabel('Time')\n",
      "    plt.title('Price of a Call Option over Time')\n",
      "    plt.show()\n"
     ],
     "language": "python",
     "metadata": {},
     "outputs": [],
     "prompt_number": 12
    },
    {
     "cell_type": "code",
     "collapsed": false,
     "input": [
      "# your code "
     ],
     "language": "python",
     "metadata": {},
     "outputs": []
    },
    {
     "cell_type": "markdown",
     "metadata": {},
     "source": [
      "## Computer Science\n",
      "\n",
      "Once again, welcome to ARC. We hope that you continue with us and keep learning. \n",
      "\n",
      "ARC welcomes you now as a Computer Scientist"
     ]
    },
    {
     "cell_type": "code",
     "collapsed": false,
     "input": [],
     "language": "python",
     "metadata": {},
     "outputs": []
    }
   ],
   "metadata": {}
  }
 ]
}